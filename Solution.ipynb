{
 "cells": [
  {
   "cell_type": "markdown",
   "metadata": {},
   "source": [
    "# 0. warming up"
   ]
  },
  {
   "cell_type": "code",
   "execution_count": 1,
   "metadata": {
    "scrolled": true
   },
   "outputs": [
    {
     "data": {
      "text/plain": [
       "274877906944"
      ]
     },
     "execution_count": 1,
     "metadata": {},
     "output_type": "execute_result"
    }
   ],
   "source": [
    "import math\n",
    "\n",
    "int(math.pow(2, 38))"
   ]
  },
  {
   "cell_type": "markdown",
   "metadata": {},
   "source": [
    "# 1. What about making trans?"
   ]
  },
  {
   "cell_type": "code",
   "execution_count": 24,
   "metadata": {},
   "outputs": [
    {
     "name": "stdout",
     "output_type": "stream",
     "text": [
      "i hope you didnt translate it by hand. thats what computers are for. doing it in by hand is inefficient and that's why this text is so long. using string.maketrans() is recommended. now apply on the url.\n"
     ]
    },
    {
     "data": {
      "text/plain": [
       "'ocr'"
      ]
     },
     "execution_count": 24,
     "metadata": {},
     "output_type": "execute_result"
    }
   ],
   "source": [
    "import string\n",
    "\n",
    "lowercase = string.ascii_lowercase\n",
    "pat = str.maketrans(lowercase, lowercase[2:] + lowercase[0:2])\n",
    "\n",
    "info = \"g fmnc wms bgblr rpylqjyrc gr zw fylb. rfyrq ufyr amknsrcpq ypc dmp. bmgle gr gl zw fylb gq glcddgagclr ylb rfyr'q ufw rfgq rcvr gq qm jmle. sqgle qrpgle.kyicrpylq() gq pcamkkclbcb. lmu ynnjw ml rfc spj.\"\n",
    "print(info.translate(pat))\n",
    "\n",
    "'map'.translate(pat)"
   ]
  },
  {
   "cell_type": "markdown",
   "metadata": {},
   "source": [
    "# 2. ocr"
   ]
  },
  {
   "cell_type": "code",
   "execution_count": 25,
   "metadata": {},
   "outputs": [
    {
     "data": {
      "text/plain": [
       "'equality'"
      ]
     },
     "execution_count": 25,
     "metadata": {},
     "output_type": "execute_result"
    }
   ],
   "source": [
    "dic = {}\n",
    "order = []\n",
    "\n",
    "with open('test2.txt') as f:\n",
    "    for line in f:\n",
    "        for i in line:\n",
    "            if i not in dic:\n",
    "                order.append(i)\n",
    "            dic[i] = dic.get(i, 0) + 1\n",
    "\n",
    "\"\".join([i for i in order if dic[i] == 1])"
   ]
  },
  {
   "cell_type": "markdown",
   "metadata": {},
   "source": [
    "# 3. re"
   ]
  },
  {
   "cell_type": "code",
   "execution_count": 36,
   "metadata": {},
   "outputs": [
    {
     "data": {
      "text/plain": [
       "'linkedlist'"
      ]
     },
     "execution_count": 36,
     "metadata": {},
     "output_type": "execute_result"
    }
   ],
   "source": [
    "import re\n",
    "\n",
    "pat = re.compile(\"[a-z][A-Z]{3}([a-z])[A-Z]{3}[a-z]\")\n",
    "\n",
    "with open(\"test3.txt\") as f:\n",
    "    out = re.findall(pat, f.read())\n",
    "\n",
    "\"\".join(out)        "
   ]
  },
  {
   "cell_type": "markdown",
   "metadata": {},
   "source": [
    "# 4. follow the chain"
   ]
  },
  {
   "cell_type": "code",
   "execution_count": 3,
   "metadata": {},
   "outputs": [
    {
     "name": "stdout",
     "output_type": "stream",
     "text": [
      "b'Yes. Divide by two and keep going.'\n",
      "value = 16044'\n",
      "end\n"
     ]
    }
   ],
   "source": [
    "import urllib\n",
    "\n",
    "def get_response(address, value, debug=False):\n",
    "    target_str = \"the next nothing is\"\n",
    "    while True:\n",
    "        try:\n",
    "            response = urllib.request.urlopen(address + value)\n",
    "            page = str(response.read())\n",
    "            if page.find(target_str) == -1:\n",
    "                print(page)\n",
    "                print(\"value = \" + value)\n",
    "                break\n",
    "            else:\n",
    "                value = page[page.index(target_str) + 20:]\n",
    "                \n",
    "            if debug:\n",
    "                print(page, value)\n",
    "        except Exception:\n",
    "            print(page)\n",
    "            print(\"value = \" + value)\n",
    "            break\n",
    "    print(\"end\")\n",
    "\n",
    "    \n",
    "url = \"http://www.pythonchallenge.com/pc/def/linkedlist.php?nothing=\"\n",
    "value = \"12345\"\n",
    "get_response(url, value, False)"
   ]
  },
  {
   "cell_type": "code",
   "execution_count": 4,
   "metadata": {},
   "outputs": [
    {
     "name": "stdout",
     "output_type": "stream",
     "text": [
      "b'peak.html'\n",
      "value = 66831'\n",
      "end\n"
     ]
    }
   ],
   "source": [
    "value = str(16044 / 2)\n",
    "get_response(url, value, False)"
   ]
  },
  {
   "cell_type": "markdown",
   "metadata": {},
   "source": [
    "# 5. peak hell"
   ]
  },
  {
   "cell_type": "code",
   "execution_count": 6,
   "metadata": {},
   "outputs": [
    {
     "name": "stdout",
     "output_type": "stream",
     "text": [
      "                                                                                               \n",
      "              #####                                                                      ##### \n",
      "               ####                                                                       #### \n",
      "               ####                                                                       #### \n",
      "               ####                                                                       #### \n",
      "               ####                                                                       #### \n",
      "               ####                                                                       #### \n",
      "               ####                                                                       #### \n",
      "               ####                                                                       #### \n",
      "      ###      ####   ###         ###       #####   ###    #####   ###          ###       #### \n",
      "   ###   ##    #### #######     ##  ###      #### #######   #### #######     ###  ###     #### \n",
      "  ###     ###  #####    ####   ###   ####    #####    ####  #####    ####   ###     ###   #### \n",
      " ###           ####     ####   ###    ###    ####     ####  ####     ####  ###      ####  #### \n",
      " ###           ####     ####          ###    ####     ####  ####     ####  ###       ###  #### \n",
      "####           ####     ####     ##   ###    ####     ####  ####     #### ####       ###  #### \n",
      "####           ####     ####   ##########    ####     ####  ####     #### ##############  #### \n",
      "####           ####     ####  ###    ####    ####     ####  ####     #### ####            #### \n",
      "####           ####     #### ####     ###    ####     ####  ####     #### ####            #### \n",
      " ###           ####     #### ####     ###    ####     ####  ####     ####  ###            #### \n",
      "  ###      ##  ####     ####  ###    ####    ####     ####  ####     ####   ###      ##   #### \n",
      "   ###    ##   ####     ####   ###########   ####     ####  ####     ####    ###    ##    #### \n",
      "      ###     ######    #####    ##    #### ######    ###########    #####      ###      ######\n",
      "                                                                                               \n"
     ]
    }
   ],
   "source": [
    "import pickle\n",
    "\n",
    "f = open(\"banner.p\", 'rb')\n",
    "data = pickle.load(f)\n",
    "\n",
    "\n",
    "for line in data:\n",
    "    row = \"\"\n",
    "    for i in line:\n",
    "        row += i[0] * i[1]\n",
    "    print(row)"
   ]
  },
  {
   "cell_type": "markdown",
   "metadata": {},
   "source": [
    "# 6. now there are pairs"
   ]
  },
  {
   "cell_type": "code",
   "execution_count": 6,
   "metadata": {},
   "outputs": [
    {
     "data": {
      "text/plain": [
       "b'welcome to my zipped list.\\n\\nhint1: start from 90052\\nhint2: answer is inside the zip\\n'"
      ]
     },
     "execution_count": 6,
     "metadata": {},
     "output_type": "execute_result"
    }
   ],
   "source": [
    "import zipfile\n",
    "\n",
    "z = zipfile.ZipFile(\"channel.zip\")\n",
    "data = z.read(\"readme.txt\")\n",
    "data"
   ]
  },
  {
   "cell_type": "code",
   "execution_count": 12,
   "metadata": {},
   "outputs": [
    {
     "name": "stdout",
     "output_type": "stream",
     "text": [
      "b'Collect the comments.'\n"
     ]
    }
   ],
   "source": [
    "value = \"90052\"\n",
    "target_str = \"is\"\n",
    "while True:\n",
    "    data = str(z.read(value + \".txt\"))\n",
    "    if data.find(target_str) == -1:\n",
    "        print(data)\n",
    "        break\n",
    "    else:\n",
    "        value = data[data.index(target_str) + 3:-1]"
   ]
  },
  {
   "cell_type": "code",
   "execution_count": 20,
   "metadata": {},
   "outputs": [
    {
     "name": "stdout",
     "output_type": "stream",
     "text": [
      "***************************************************************\n",
      "****************************************************************\n",
      "**                                                            **\n",
      "**   OO    OO    XX      YYYY    GG    GG  EEEEEE NN      NN  **\n",
      "**   OO    OO  XXXXXX   YYYYYY   GG   GG   EEEEEE  NN    NN   **\n",
      "**   OO    OO XXX  XXX YYY   YY  GG GG     EE       NN  NN    **\n",
      "**   OOOOOOOO XX    XX YY        GGG       EEEEE     NNNN     **\n",
      "**   OOOOOOOO XX    XX YY        GGG       EEEEE      NN      **\n",
      "**   OO    OO XXX  XXX YYY   YY  GG GG     EE         NN      **\n",
      "**   OO    OO  XXXXXX   YYYYYY   GG   GG   EEEEEE     NN      **\n",
      "**   OO    OO    XX      YYYY    GG    GG  EEEEEE     NN      **\n",
      "**                                                            **\n",
      "****************************************************************\n",
      " **************************************************************\n",
      "\n"
     ]
    }
   ],
   "source": [
    "value = \"90052\"\n",
    "target_str = \"is\"\n",
    "comments = \"\"\n",
    "while True:\n",
    "    data = str(z.read(value + \".txt\"))\n",
    "    if data.find(target_str) == -1:\n",
    "        break\n",
    "    else:\n",
    "        value = data[data.index(target_str) + 3:-1]\n",
    "        comments += z.getinfo(value + \".txt\").comment.decode(\"utf-8\")\n",
    "\n",
    "print(comments)"
   ]
  },
  {
   "cell_type": "code",
   "execution_count": null,
   "metadata": {},
   "outputs": [],
   "source": []
  }
 ],
 "metadata": {
  "kernelspec": {
   "display_name": "Python 3",
   "language": "python",
   "name": "python3"
  },
  "language_info": {
   "codemirror_mode": {
    "name": "ipython",
    "version": 3
   },
   "file_extension": ".py",
   "mimetype": "text/x-python",
   "name": "python",
   "nbconvert_exporter": "python",
   "pygments_lexer": "ipython3",
   "version": "3.6.5"
  }
 },
 "nbformat": 4,
 "nbformat_minor": 2
}
